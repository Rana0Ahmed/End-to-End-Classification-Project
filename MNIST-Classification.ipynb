{
 "cells": [
  {
   "cell_type": "markdown",
   "id": "1a6c4d63",
   "metadata": {},
   "source": [
    "## Import Needed Libraries"
   ]
  },
  {
   "cell_type": "code",
   "execution_count": 1,
   "id": "94ad732c",
   "metadata": {},
   "outputs": [],
   "source": [
    "import numpy as np\n",
    "import pandas as pd\n",
    "import matplotlib.pyplot as plt\n",
    "%matplotlib inline\n",
    "\n",
    "# processing\n",
    "from sklearn.linear_model import SGDClassifier\n",
    "from sklearn.model_selection import cross_val_score\n",
    "from sklearn.dummy import DummyClassifier\n",
    "from sklearn.model_selection import cross_val_predict\n",
    "from sklearn.metrics import confusion_matrix\n",
    "from sklearn.metrics import precision_score, recall_score\n",
    "from sklearn.metrics import f1_score\n",
    "from sklearn.metrics import precision_recall_curve\n",
    "from sklearn.metrics import roc_curve\n",
    "from sklearn.metrics import roc_auc_score\n",
    "from sklearn.ensemble import RandomForestClassifier\n",
    "from sklearn.preprocessing import StandardScaler\n",
    "from sklearn.svm import SVC\n",
    "from sklearn.neighbors import KNeighborsClassifier\n",
    "\n",
    "\n",
    "\n",
    "import warnings\n",
    "warnings.filterwarnings('ignore')"
   ]
  },
  {
   "cell_type": "markdown",
   "id": "07dd0933",
   "metadata": {},
   "source": [
    "# **Binary Classification**"
   ]
  },
  {
   "cell_type": "code",
   "execution_count": 2,
   "id": "ff6d3cdb",
   "metadata": {},
   "outputs": [
    {
     "data": {
      "text/plain": [
       "dict_keys(['data', 'target', 'frame', 'categories', 'feature_names', 'target_names', 'DESCR', 'details', 'url'])"
      ]
     },
     "execution_count": 2,
     "metadata": {},
     "output_type": "execute_result"
    }
   ],
   "source": [
    "# import Mnist dataset\n",
    "from sklearn.datasets import fetch_openml\n",
    "mnist = fetch_openml('mnist_784')\n",
    "mnist.keys()"
   ]
  },
  {
   "cell_type": "code",
   "execution_count": 3,
   "id": "95033b47",
   "metadata": {},
   "outputs": [
    {
     "data": {
      "text/plain": [
       "0        5\n",
       "1        0\n",
       "2        4\n",
       "3        1\n",
       "4        9\n",
       "        ..\n",
       "69995    2\n",
       "69996    3\n",
       "69997    4\n",
       "69998    5\n",
       "69999    6\n",
       "Name: class, Length: 70000, dtype: category\n",
       "Categories (10, object): ['0', '1', '2', '3', ..., '6', '7', '8', '9']"
      ]
     },
     "execution_count": 3,
     "metadata": {},
     "output_type": "execute_result"
    }
   ],
   "source": [
    "# check target values\n",
    "mnist.target"
   ]
  },
  {
   "cell_type": "code",
   "execution_count": 4,
   "id": "59067fb0",
   "metadata": {},
   "outputs": [],
   "source": [
    "X, y = mnist[\"data\"], mnist[\"target\"]"
   ]
  },
  {
   "cell_type": "code",
   "execution_count": 5,
   "id": "29e21959",
   "metadata": {},
   "outputs": [
    {
     "name": "stdout",
     "output_type": "stream",
     "text": [
      "X shape is:  (70000, 784)\n",
      "=========================\n",
      "y shape is:  (70000,)\n"
     ]
    }
   ],
   "source": [
    "# check shape for X, y\n",
    "print(\"X shape is: \", X.shape)\n",
    "print('='*25)\n",
    "print(\"y shape is: \", y.shape)"
   ]
  },
  {
   "cell_type": "code",
   "execution_count": 6,
   "id": "7c67476c",
   "metadata": {},
   "outputs": [],
   "source": [
    "# get the 1st photo from mnist\n",
    "first_photo = X.loc[0].values.reshape(28,28)"
   ]
  },
  {
   "cell_type": "code",
   "execution_count": 7,
   "id": "9d588805",
   "metadata": {},
   "outputs": [
    {
     "data": {
      "image/png": "[encoded data removed]",
      "text/plain": [
       "<Figure size 640x480 with 1 Axes>"
      ]
     },
     "metadata": {},
     "output_type": "display_data"
    }
   ],
   "source": [
    "plt.imshow(first_photo, cmap=\"binary\")\n",
    "plt.axis(\"off\")\n",
    "plt.show()"
   ]
  },
  {
   "cell_type": "code",
   "execution_count": 8,
   "id": "0714bc3f",
   "metadata": {},
   "outputs": [
    {
     "data": {
      "text/plain": [
       "'5'"
      ]
     },
     "execution_count": 8,
     "metadata": {},
     "output_type": "execute_result"
    }
   ],
   "source": [
    "# check tatrget for 1st photo\n",
    "y[0]"
   ]
  },
  {
   "cell_type": "code",
   "execution_count": 9,
   "id": "c85894f1",
   "metadata": {},
   "outputs": [
    {
     "data": {
      "text/plain": [
       "5"
      ]
     },
     "execution_count": 9,
     "metadata": {},
     "output_type": "execute_result"
    }
   ],
   "source": [
    "# cast y[0] to integer value\n",
    "y = y.astype(np.uint8)\n",
    "y[0]"
   ]
  },
  {
   "cell_type": "code",
   "execution_count": 10,
   "id": "16e15059",
   "metadata": {},
   "outputs": [],
   "source": [
    "# divide data into X_train, X_test, y_train, y_test\n",
    "X_train, X_test, y_train, y_test = X[:60000], X[60000:], y[:60000], y[60000:]"
   ]
  },
  {
   "cell_type": "code",
   "execution_count": 11,
   "id": "0d0bed69",
   "metadata": {},
   "outputs": [],
   "source": [
    "y_train_5 = y_train == 5"
   ]
  },
  {
   "cell_type": "code",
   "execution_count": 12,
   "id": "d5868157",
   "metadata": {},
   "outputs": [],
   "source": [
    "y_test_5 = y_test == 5"
   ]
  },
  {
   "cell_type": "code",
   "execution_count": 13,
   "id": "cf44bbb2",
   "metadata": {},
   "outputs": [
    {
     "data": {
      "text/plain": [
       "array([ True, False, False, False, False, False, False, False, False])"
      ]
     },
     "execution_count": 13,
     "metadata": {},
     "output_type": "execute_result"
    }
   ],
   "source": [
    "# training a binary classification using SGDClassifier\n",
    "sgd_clf = SGDClassifier(random_state=20)\n",
    "sgd_clf.fit(X_train, y_train_5)\n",
    "sgd_clf.predict(X[:9])"
   ]
  },
  {
   "cell_type": "code",
   "execution_count": 14,
   "id": "a8354108",
   "metadata": {},
   "outputs": [
    {
     "data": {
      "text/plain": [
       "0     True\n",
       "1    False\n",
       "2    False\n",
       "3    False\n",
       "4    False\n",
       "5    False\n",
       "6    False\n",
       "7    False\n",
       "8    False\n",
       "Name: class, dtype: bool"
      ]
     },
     "execution_count": 14,
     "metadata": {},
     "output_type": "execute_result"
    }
   ],
   "source": [
    "y_train_5[:9]"
   ]
  },
  {
   "cell_type": "markdown",
   "id": "76d1a4fa",
   "metadata": {},
   "source": [
    "### performance measures"
   ]
  },
  {
   "cell_type": "code",
   "execution_count": 15,
   "id": "07cc89a1",
   "metadata": {},
   "outputs": [
    {
     "data": {
      "text/plain": [
       "array([0.96505, 0.9675 , 0.91375])"
      ]
     },
     "execution_count": 15,
     "metadata": {},
     "output_type": "execute_result"
    }
   ],
   "source": [
    "# performance measure using cross validation\n",
    "cross_val_score(sgd_clf, X_train, y_train_5, cv=3, scoring=\"accuracy\")"
   ]
  },
  {
   "cell_type": "code",
   "execution_count": 16,
   "id": "409b153f",
   "metadata": {},
   "outputs": [
    {
     "name": "stdout",
     "output_type": "stream",
     "text": [
      "False\n"
     ]
    }
   ],
   "source": [
    "# make prediction of ignored data\n",
    "dummy_clf = DummyClassifier()\n",
    "dummy_clf.fit(X_train, y_train_5)\n",
    "print(any(dummy_clf.predict(X_train)))"
   ]
  },
  {
   "cell_type": "code",
   "execution_count": 17,
   "id": "328796aa",
   "metadata": {},
   "outputs": [
    {
     "data": {
      "text/plain": [
       "array([0.90965, 0.90965, 0.90965])"
      ]
     },
     "execution_count": 17,
     "metadata": {},
     "output_type": "execute_result"
    }
   ],
   "source": [
    "cross_val_score(dummy_clf, X_train, y_train_5, cv=3, scoring=\"accuracy\")"
   ]
  },
  {
   "cell_type": "code",
   "execution_count": 18,
   "id": "9982fad3",
   "metadata": {},
   "outputs": [],
   "source": [
    "# make predictions using cross validation\n",
    "y_train_pred = cross_val_predict(sgd_clf, X_train, y_train_5, cv=3)"
   ]
  },
  {
   "cell_type": "code",
   "execution_count": 19,
   "id": "f907f152",
   "metadata": {},
   "outputs": [
    {
     "data": {
      "text/plain": [
       "array([[52695,  1190],\n",
       "       [ 1884,  4231]], dtype=int64)"
      ]
     },
     "execution_count": 19,
     "metadata": {},
     "output_type": "execute_result"
    }
   ],
   "source": [
    "# performance measure using confusion matrix\n",
    "confusion_matrix(y_train_pred, y_train_5)"
   ]
  },
  {
   "cell_type": "code",
   "execution_count": 20,
   "id": "6205f40f",
   "metadata": {},
   "outputs": [
    {
     "name": "stdout",
     "output_type": "stream",
     "text": [
      "precision_score is:  0.6919051512673753\n",
      "========================================\n",
      "recall_score is:  0.7804833056631618\n"
     ]
    }
   ],
   "source": [
    "# performance measure using precision and recall\n",
    "print(\"precision_score is: \", precision_score(y_train_5, y_train_pred))\n",
    "print(\"=\"*40)\n",
    "print(\"recall_score is: \", recall_score(y_train_5, y_train_pred))"
   ]
  },
  {
   "cell_type": "code",
   "execution_count": 21,
   "id": "d9f3bf82",
   "metadata": {},
   "outputs": [
    {
     "name": "stdout",
     "output_type": "stream",
     "text": [
      "f1_score is:  0.7335298196948682\n"
     ]
    }
   ],
   "source": [
    "# performance measure using f1_score\n",
    "print(\"f1_score is: \", f1_score(y_train_5, y_train_pred))"
   ]
  },
  {
   "cell_type": "markdown",
   "id": "4bcb433c",
   "metadata": {},
   "source": [
    "#### **Precision/Recall Tradeoff**\n"
   ]
  },
  {
   "cell_type": "code",
   "execution_count": 22,
   "id": "efe25c5e",
   "metadata": {},
   "outputs": [
    {
     "data": {
      "text/plain": [
       "array([   985.58186458, -10858.74707462, -14766.39378776,  -7208.37342647,\n",
       "        -5681.31122781,  -7335.48404647,  -3574.79114438,  -9669.4171267 ,\n",
       "        -1207.11289618,  -4554.42555684])"
      ]
     },
     "execution_count": 22,
     "metadata": {},
     "output_type": "execute_result"
    }
   ],
   "source": [
    "# get scores using decision_function()\n",
    "y_scores = sgd_clf.decision_function(X.loc[0:9])\n",
    "y_scores"
   ]
  },
  {
   "cell_type": "code",
   "execution_count": 23,
   "id": "d3e4e989",
   "metadata": {},
   "outputs": [
    {
     "data": {
      "text/plain": [
       "0     True\n",
       "1    False\n",
       "2    False\n",
       "3    False\n",
       "4    False\n",
       "5    False\n",
       "6    False\n",
       "7    False\n",
       "8    False\n",
       "9    False\n",
       "Name: class, dtype: bool"
      ]
     },
     "execution_count": 23,
     "metadata": {},
     "output_type": "execute_result"
    }
   ],
   "source": [
    "y_train_5.loc[:9]"
   ]
  },
  {
   "cell_type": "code",
   "execution_count": 24,
   "id": "787d3f7b",
   "metadata": {},
   "outputs": [
    {
     "data": {
      "text/plain": [
       "(60000,)"
      ]
     },
     "execution_count": 24,
     "metadata": {},
     "output_type": "execute_result"
    }
   ],
   "source": [
    "# get scores on training data using cross validation\n",
    "y_scores = cross_val_predict(sgd_clf, X_train, y_train_5, cv=3, method=\"decision_function\")\n",
    "y_scores.shape"
   ]
  },
  {
   "cell_type": "code",
   "execution_count": 25,
   "id": "aa94583e",
   "metadata": {},
   "outputs": [],
   "source": [
    "# compute precision and recall for all possible thresholds using precision_recall_curve() function\n",
    "precisions, recalls, thresholds = precision_recall_curve(y_train_5, y_scores)"
   ]
  },
  {
   "cell_type": "code",
   "execution_count": 26,
   "id": "1fce2169",
   "metadata": {},
   "outputs": [
    {
     "data": {
      "text/plain": [
       "(59823,)"
      ]
     },
     "execution_count": 26,
     "metadata": {},
     "output_type": "execute_result"
    }
   ],
   "source": [
    "recalls.shape"
   ]
  },
  {
   "cell_type": "code",
   "execution_count": 27,
   "id": "0dcc706c",
   "metadata": {},
   "outputs": [
    {
     "data": {
      "image/png": "[encoded data removed]",
      "text/plain": [
       "<Figure size 800x400 with 1 Axes>"
      ]
     },
     "metadata": {},
     "output_type": "display_data"
    }
   ],
   "source": [
    "# visualize precision and recll\n",
    "plt.figure(figsize=(8, 4)) \n",
    "plt.plot(thresholds, precisions[:-1], \"b--\", label=\"Precision\", linewidth=2)\n",
    "plt.plot(thresholds, recalls[:-1], \"g-\", label=\"Recall\", linewidth=2)\n",
    "plt.title('Precision vc. recall')\n",
    "plt.axis([-50000, 40000, 0, 1])\n",
    "plt.grid()\n",
    "plt.legend()\n",
    "plt.show()"
   ]
  },
  {
   "cell_type": "code",
   "execution_count": 28,
   "id": "622e142d",
   "metadata": {},
   "outputs": [
    {
     "name": "stdout",
     "output_type": "stream",
     "text": [
      "recall_90_precision is:  0.48146098505810736\n",
      "=============================================\n",
      "threshold_90_precisionis:  4638.827306174002\n"
     ]
    }
   ],
   "source": [
    "# get recall and threshold for precision = 90% \n",
    "recall_90_precision = recalls[np.argmax(precisions >= 0.90)]\n",
    "print(\"recall_90_precision is: \", recall_90_precision)\n",
    "print('='*45)\n",
    "threshold_90_precision = thresholds[np.argmax(precisions >= 0.90)]\n",
    "print(\"threshold_90_precisionis: \",threshold_90_precision)"
   ]
  },
  {
   "cell_type": "code",
   "execution_count": 29,
   "id": "c1618630",
   "metadata": {},
   "outputs": [
    {
     "data": {
      "image/png": "[encoded data removed]",
      "text/plain": [
       "<Figure size 800x400 with 1 Axes>"
      ]
     },
     "metadata": {},
     "output_type": "display_data"
    }
   ],
   "source": [
    "# visualize recall and threshold for precision_90\n",
    "plt.figure(figsize=(8, 4)) \n",
    "plt.plot(thresholds, precisions[:-1], \"b--\", label=\"Precision\", linewidth=2)\n",
    "plt.plot(thresholds, recalls[:-1], \"g-\", label=\"Recall\", linewidth=2)\n",
    "plt.title('recall and threshold for precision_90')\n",
    "plt.axis([-50000, 40000, 0, 1])\n",
    "\n",
    "# line for threshold\n",
    "plt.plot([threshold_90_precision, threshold_90_precision], [0., 0.9], \"r:\")               \n",
    "\n",
    "# line for precision 90\n",
    "plt.plot([-50000, threshold_90_precision], [0.9, 0.9], \"r:\")\n",
    "plt.plot([threshold_90_precision], [0.9], \"ro\")\n",
    "\n",
    "# line for recall 90 \n",
    "plt.plot([-50000, threshold_90_precision], [recall_90_precision, recall_90_precision], \"r:\")\n",
    "plt.plot([threshold_90_precision], [recall_90_precision], \"ro\") \n",
    "\n",
    "plt.grid()\n",
    "plt.legend()\n",
    "plt.show()"
   ]
  },
  {
   "cell_type": "code",
   "execution_count": 30,
   "id": "0126306f",
   "metadata": {},
   "outputs": [],
   "source": [
    "#threshold_for_90_precision = thresholds[idx_for_90_precision]\n",
    "#threshold_for_90_precision"
   ]
  },
  {
   "cell_type": "code",
   "execution_count": 31,
   "id": "47375bc9",
   "metadata": {},
   "outputs": [
    {
     "name": "stdout",
     "output_type": "stream",
     "text": [
      "precision_score is:  0.9\n",
      "========================================\n",
      "recall_score is:  0.48146098505810736\n"
     ]
    }
   ],
   "source": [
    "# make predictions for precision and recall again\n",
    "y_train_pred_90 = (y_scores >= threshold_90_precision)\n",
    "print(\"precision_score is: \", precision_score(y_train_5, y_train_pred_90))\n",
    "print('='*40)\n",
    "print(\"recall_score is: \", recall_score(y_train_5, y_train_pred_90))"
   ]
  },
  {
   "cell_type": "markdown",
   "id": "fb12d3c9",
   "metadata": {},
   "source": [
    "#### **Roc Curve**"
   ]
  },
  {
   "cell_type": "code",
   "execution_count": 32,
   "id": "887e7760",
   "metadata": {},
   "outputs": [],
   "source": [
    "# get fpr, tpr, thresholds  \n",
    "fpr, tpr, thresholds = roc_curve(y_train_5, y_scores)"
   ]
  },
  {
   "cell_type": "code",
   "execution_count": 33,
   "id": "5a28d32d",
   "metadata": {},
   "outputs": [
    {
     "data": {
      "image/png": "[encoded data removed]",
      "text/plain": [
       "<Figure size 600x500 with 1 Axes>"
      ]
     },
     "metadata": {},
     "output_type": "display_data"
    }
   ],
   "source": [
    "# visualize Roc Curve\n",
    "plt.subplots(figsize=(6,5))\n",
    "plt.plot(fpr, tpr, linewidth=2)\n",
    "plt.plot([0, 1], [0, 1], 'k--')\n",
    "plt.title('Roc Curve')\n",
    "plt.xlabel('FAlse Positive Rate')\n",
    "plt.ylabel('TRue Positive Rate (Recall)')\n",
    "plt.grid()\n",
    "plt.show()"
   ]
  },
  {
   "cell_type": "code",
   "execution_count": 34,
   "id": "e2107815",
   "metadata": {},
   "outputs": [
    {
     "name": "stdout",
     "output_type": "stream",
     "text": [
      "AUC_Score is:  0.9538037160088807\n"
     ]
    }
   ],
   "source": [
    "# calcualate AUC \n",
    "print('AUC_Score is: ', roc_auc_score(y_train_5, y_scores))"
   ]
  },
  {
   "cell_type": "markdown",
   "id": "f23b6198",
   "metadata": {},
   "source": [
    "#### RandomForestClassifier"
   ]
  },
  {
   "cell_type": "code",
   "execution_count": 35,
   "id": "73b554b8",
   "metadata": {},
   "outputs": [],
   "source": [
    "forest_clf = RandomForestClassifier(random_state=0)\n",
    "# make prediction using cross validation and predict_proba\n",
    "y_proba_forest = cross_val_predict(forest_clf, X_train, y_train_5, cv=3, method=\"predict_proba\")"
   ]
  },
  {
   "cell_type": "code",
   "execution_count": 36,
   "id": "f5173988",
   "metadata": {},
   "outputs": [],
   "source": [
    "# get scores (proba of positive class) for RandomForestClassifier\n",
    "y_scores_forest = y_proba_forest[:, 1] \n",
    "fpr_forest, tpr_forest, thresholds_forest = roc_curve(y_train_5, y_scores_forest)"
   ]
  },
  {
   "cell_type": "code",
   "execution_count": 37,
   "id": "8b5f3a7a",
   "metadata": {},
   "outputs": [
    {
     "data": {
      "text/plain": [
       "array([0.82, 0.01, 0.04, ..., 0.98, 0.06, 0.1 ])"
      ]
     },
     "execution_count": 37,
     "metadata": {},
     "output_type": "execute_result"
    }
   ],
   "source": [
    "y_scores_forest"
   ]
  },
  {
   "cell_type": "code",
   "execution_count": 38,
   "id": "28c9b6a9",
   "metadata": {},
   "outputs": [
    {
     "data": {
      "image/png": "[encoded data removed]",
      "text/plain": [
       "<Figure size 600x500 with 1 Axes>"
      ]
     },
     "metadata": {},
     "output_type": "display_data"
    }
   ],
   "source": [
    "# visualize Roc Curve for Random Forest\n",
    "plt.subplots(figsize=(6,5))\n",
    "plt.plot(fpr_forest, tpr_forest, linewidth=2, label=\"Random Forest\")\n",
    "plt.plot([0, 1], [0, 1], 'k--')\n",
    "plt.title('Roc Curve for Random Forest')\n",
    "plt.xlabel('FAlse Positive Rate')\n",
    "plt.ylabel('TRue Positive Rate (Recall)')\n",
    "plt.grid()\n",
    "plt.show()"
   ]
  },
  {
   "cell_type": "code",
   "execution_count": 39,
   "id": "bb21a6d4",
   "metadata": {},
   "outputs": [
    {
     "data": {
      "image/png": "[encoded data removed]",
      "text/plain": [
       "<Figure size 600x500 with 1 Axes>"
      ]
     },
     "metadata": {},
     "output_type": "display_data"
    }
   ],
   "source": [
    "# visualize Roc Curve for SGD vs.Random Forest\n",
    "plt.subplots(figsize=(6,5))\n",
    "plt.plot(fpr, tpr, \"b:\", label=\"SGD\")\n",
    "plt.plot(fpr_forest, tpr_forest, linewidth=2, label=\"RandomForest\")\n",
    "plt.plot([0, 1], [0, 1], 'k--') \n",
    "\n",
    "plt.title('SGD vs.RandomForest Roc Curve')\n",
    "plt.xlabel('FAlse Positive Rate')\n",
    "plt.ylabel('TRue Positive Rate (Recall)')\n",
    "\n",
    "plt.grid()\n",
    "plt.legend()\n",
    "plt.show()"
   ]
  },
  {
   "cell_type": "code",
   "execution_count": 40,
   "id": "f847ebbf",
   "metadata": {},
   "outputs": [
    {
     "name": "stdout",
     "output_type": "stream",
     "text": [
      "AUC_RandomForest is:  0.9983139390673001\n"
     ]
    }
   ],
   "source": [
    "# get AUC for RandomForest\n",
    "print('AUC_RandomForest is: ', roc_auc_score(y_train_5, y_scores_forest))"
   ]
  },
  {
   "cell_type": "markdown",
   "id": "9f46c9cc",
   "metadata": {},
   "source": [
    "# **Multiclass Classification**"
   ]
  },
  {
   "cell_type": "code",
   "execution_count": 41,
   "id": "62502bb3",
   "metadata": {},
   "outputs": [],
   "source": [
    "# scale X_train using StandaredScaler\n",
    "scaler = StandardScaler()\n",
    "X_train_scaled = scaler.fit_transform(X_train.astype(np.float64))"
   ]
  },
  {
   "cell_type": "code",
   "execution_count": 42,
   "id": "cd3f094c",
   "metadata": {},
   "outputs": [],
   "source": [
    "X_test_scaled = scaler.fit_transform(X_test.astype(np.float64))"
   ]
  },
  {
   "cell_type": "markdown",
   "id": "9e98bdac",
   "metadata": {},
   "source": [
    "### SGD Classifier "
   ]
  },
  {
   "cell_type": "code",
   "execution_count": 43,
   "id": "daf22d4c",
   "metadata": {},
   "outputs": [
    {
     "data": {
      "text/plain": [
       "array([5], dtype=uint8)"
      ]
     },
     "execution_count": 43,
     "metadata": {},
     "output_type": "execute_result"
    }
   ],
   "source": [
    "sgd_clf.fit(X_train, y_train)\n",
    "digit = X[:1].values\n",
    "sgd_clf.predict(digit)"
   ]
  },
  {
   "cell_type": "code",
   "execution_count": 44,
   "id": "250121fc",
   "metadata": {},
   "outputs": [
    {
     "data": {
      "text/plain": [
       "array([[-13635.58988627, -26268.59301979,  -7812.65928812,\n",
       "          -675.61421886, -27437.3302543 ,   1454.05657509,\n",
       "        -26330.98937691, -12185.87181873,  -8842.69023341,\n",
       "         -9876.7421915 ]])"
      ]
     },
     "execution_count": 44,
     "metadata": {},
     "output_type": "execute_result"
    }
   ],
   "source": [
    "# get scores using decision function\n",
    "digit_scores = sgd_clf.decision_function(digit)\n",
    "digit_scores"
   ]
  },
  {
   "cell_type": "code",
   "execution_count": 45,
   "id": "4b9b5869",
   "metadata": {},
   "outputs": [
    {
     "data": {
      "text/plain": [
       "5"
      ]
     },
     "execution_count": 45,
     "metadata": {},
     "output_type": "execute_result"
    }
   ],
   "source": [
    "# get the heighst index value\n",
    "np.argmax(digit_scores)"
   ]
  },
  {
   "cell_type": "code",
   "execution_count": 46,
   "id": "e8639647",
   "metadata": {},
   "outputs": [
    {
     "data": {
      "text/plain": [
       "array([0, 1, 2, 3, 4, 5, 6, 7, 8, 9], dtype=uint8)"
      ]
     },
     "execution_count": 46,
     "metadata": {},
     "output_type": "execute_result"
    }
   ],
   "source": [
    "# get classes of sgd_clf \n",
    "sgd_clf.classes_"
   ]
  },
  {
   "cell_type": "code",
   "execution_count": 47,
   "id": "d945f5ce",
   "metadata": {},
   "outputs": [
    {
     "data": {
      "text/plain": [
       "array([0.86825, 0.866  , 0.88185])"
      ]
     },
     "execution_count": 47,
     "metadata": {},
     "output_type": "execute_result"
    }
   ],
   "source": [
    "# get accuracy on training\n",
    "cross_val_score(sgd_clf, X_train, y_train, cv=3, scoring=\"accuracy\")"
   ]
  },
  {
   "cell_type": "code",
   "execution_count": 48,
   "id": "7450c5e9",
   "metadata": {},
   "outputs": [
    {
     "data": {
      "text/plain": [
       "0.8579"
      ]
     },
     "execution_count": 48,
     "metadata": {},
     "output_type": "execute_result"
    }
   ],
   "source": [
    "# get accuracy on testing \n",
    "sgd_accuracy = sgd_clf.score(X_test, y_test)\n",
    "sgd_accuracy"
   ]
  },
  {
   "cell_type": "markdown",
   "id": "956d0dae",
   "metadata": {},
   "source": [
    "### RandomForest Classifier"
   ]
  },
  {
   "cell_type": "code",
   "execution_count": 50,
   "id": "ed70f6e7",
   "metadata": {},
   "outputs": [
    {
     "data": {
      "text/plain": [
       "array([5], dtype=uint8)"
      ]
     },
     "execution_count": 50,
     "metadata": {},
     "output_type": "execute_result"
    }
   ],
   "source": [
    "forest_clf.fit(X_train, y_train)\n",
    "forest_clf.predict(digit)"
   ]
  },
  {
   "cell_type": "code",
   "execution_count": 51,
   "id": "382a1eec",
   "metadata": {},
   "outputs": [],
   "source": [
    "# get proba for RandomForestClassifier\n",
    "forest_clf.predict_proba = forest_clf.predict_proba(digit)"
   ]
  },
  {
   "cell_type": "code",
   "execution_count": 52,
   "id": "d5f7d0b7",
   "metadata": {},
   "outputs": [
    {
     "data": {
      "text/plain": [
       "5"
      ]
     },
     "execution_count": 52,
     "metadata": {},
     "output_type": "execute_result"
    }
   ],
   "source": [
    "# get the heighst index value\n",
    "np.argmax(forest_clf.predict_proba)"
   ]
  },
  {
   "cell_type": "code",
   "execution_count": 53,
   "id": "2f0be348",
   "metadata": {},
   "outputs": [
    {
     "data": {
      "text/plain": [
       "array([0.96465, 0.96225, 0.9659 ])"
      ]
     },
     "execution_count": 53,
     "metadata": {},
     "output_type": "execute_result"
    }
   ],
   "source": [
    "# get accuracy \n",
    "cross_val_score(forest_clf, X_train, y_train, cv=3, scoring=\"accuracy\")"
   ]
  },
  {
   "cell_type": "markdown",
   "id": "3f67db22",
   "metadata": {},
   "source": [
    "### SVM Classifier"
   ]
  },
  {
   "cell_type": "code",
   "execution_count": 54,
   "id": "0f9dbdfe",
   "metadata": {},
   "outputs": [
    {
     "data": {
      "text/plain": [
       "array([5], dtype=uint8)"
      ]
     },
     "execution_count": 54,
     "metadata": {},
     "output_type": "execute_result"
    }
   ],
   "source": [
    "svm_clf = SVC()\n",
    "svm_clf.fit(X_train, y_train)\n",
    "svm_clf.predict(digit)"
   ]
  },
  {
   "cell_type": "code",
   "execution_count": 55,
   "id": "2b1b42b5",
   "metadata": {},
   "outputs": [
    {
     "data": {
      "text/plain": [
       "array([[ 1.72501977,  2.72809088,  7.2510018 ,  8.3076379 , -0.31087254,\n",
       "         9.3132482 ,  1.70975103,  2.76765202,  6.23049537,  4.84771048]])"
      ]
     },
     "execution_count": 55,
     "metadata": {},
     "output_type": "execute_result"
    }
   ],
   "source": [
    "# get scores using decision function\n",
    "digit_scores_svm = svm_clf.decision_function(digit)\n",
    "digit_scores_svm"
   ]
  },
  {
   "cell_type": "code",
   "execution_count": 56,
   "id": "a15949fd",
   "metadata": {},
   "outputs": [
    {
     "data": {
      "text/plain": [
       "5"
      ]
     },
     "execution_count": 56,
     "metadata": {},
     "output_type": "execute_result"
    }
   ],
   "source": [
    "# get the heighst index value\n",
    "np.argmax(digit_scores_svm)"
   ]
  },
  {
   "cell_type": "code",
   "execution_count": 57,
   "id": "0cb0177d",
   "metadata": {},
   "outputs": [
    {
     "data": {
      "text/plain": [
       "array([0, 1, 2, 3, 4, 5, 6, 7, 8, 9], dtype=uint8)"
      ]
     },
     "execution_count": 57,
     "metadata": {},
     "output_type": "execute_result"
    }
   ],
   "source": [
    "# get classes of sgd_clf \n",
    "svm_clf.classes_"
   ]
  },
  {
   "cell_type": "code",
   "execution_count": 58,
   "id": "6adeba11",
   "metadata": {},
   "outputs": [
    {
     "data": {
      "text/plain": [
       "array([0.977 , 0.9738, 0.9739])"
      ]
     },
     "execution_count": 58,
     "metadata": {},
     "output_type": "execute_result"
    }
   ],
   "source": [
    "# get accuracy\n",
    "cross_val_score(svm_clf, X_train, y_train, cv=3, scoring=\"accuracy\")"
   ]
  },
  {
   "cell_type": "code",
   "execution_count": 59,
   "id": "e412ecaf",
   "metadata": {},
   "outputs": [
    {
     "data": {
      "text/plain": [
       "0.9792"
      ]
     },
     "execution_count": 59,
     "metadata": {},
     "output_type": "execute_result"
    }
   ],
   "source": [
    "# get accuracy on test\n",
    "svm_accuracy = svm_clf.score(X_test, y_test)\n",
    "svm_accuracy"
   ]
  },
  {
   "cell_type": "markdown",
   "id": "b652962f",
   "metadata": {},
   "source": [
    "### KNeighborsClassifier"
   ]
  },
  {
   "cell_type": "code",
   "execution_count": 60,
   "id": "2a9dfc73",
   "metadata": {},
   "outputs": [
    {
     "data": {
      "text/plain": [
       "array([5], dtype=uint8)"
      ]
     },
     "execution_count": 60,
     "metadata": {},
     "output_type": "execute_result"
    }
   ],
   "source": [
    "knn_clf = KNeighborsClassifier()\n",
    "knn_clf.fit(X_train, y_train)\n",
    "knn_clf.predict(digit)"
   ]
  },
  {
   "cell_type": "code",
   "execution_count": 61,
   "id": "409b20ae",
   "metadata": {},
   "outputs": [
    {
     "data": {
      "text/plain": [
       "0.9688"
      ]
     },
     "execution_count": 61,
     "metadata": {},
     "output_type": "execute_result"
    }
   ],
   "source": [
    "# get accuracy on test\n",
    "knn_accuracy = knn_clf.score(X_test, y_test)\n",
    "knn_accuracy"
   ]
  },
  {
   "cell_type": "markdown",
   "id": "8ab7feb1",
   "metadata": {},
   "source": [
    "# Error Analysis"
   ]
  },
  {
   "cell_type": "code",
   "execution_count": 62,
   "id": "2fc3332c",
   "metadata": {},
   "outputs": [
    {
     "data": {
      "text/plain": [
       "array([[5863,    3,   10,    2,    4,    8,   14,    2,   13,    4],\n",
       "       [   1, 6664,   26,    9,   10,    1,    3,   10,   10,    8],\n",
       "       [  19,    9, 5811,   16,   26,    5,    8,   30,   28,    6],\n",
       "       [   3,    9,   54, 5891,    2,   62,    1,   30,   61,   18],\n",
       "       [   5,   11,   13,    0, 5712,    0,   20,    9,    4,   68],\n",
       "       [  11,    6,   10,   57,   14, 5255,   35,    4,   17,   12],\n",
       "       [  20,    8,    7,    0,   10,   32, 5831,    0,   10,    0],\n",
       "       [   5,   21,   42,    6,   35,    2,    1, 6100,    7,   46],\n",
       "       [   8,   29,   19,   38,   20,   39,   21,    9, 5646,   22],\n",
       "       [  14,   11,    4,   31,   72,   16,    2,   59,   19, 5721]],\n",
       "      dtype=int64)"
      ]
     },
     "execution_count": 62,
     "metadata": {},
     "output_type": "execute_result"
    }
   ],
   "source": [
    "# make prediction using cross validation on SVM Classifier\n",
    "y_train_pred = cross_val_predict(svm_clf, X_train, y_train, cv=3)\n",
    "\n",
    "# confusion_matrix\n",
    "conf_mx = confusion_matrix(y_train, y_train_pred)\n",
    "conf_mx"
   ]
  },
  {
   "cell_type": "code",
   "execution_count": 63,
   "id": "45534160",
   "metadata": {},
   "outputs": [
    {
     "data": {
      "image/png": "[encoded data removed]",
      "text/plain": [
       "<Figure size 480x480 with 1 Axes>"
      ]
     },
     "metadata": {},
     "output_type": "display_data"
    }
   ],
   "source": [
    "# visualize confusion_matrix\n",
    "plt.matshow(conf_mx, cmap=plt.cm.gray)\n",
    "plt.ylabel(\"Actual classes\")\n",
    "plt.title(\"Predicted classes\")\n",
    "plt.show()"
   ]
  },
  {
   "cell_type": "code",
   "execution_count": 64,
   "id": "9ce91a0b",
   "metadata": {},
   "outputs": [
    {
     "name": "stdout",
     "output_type": "stream",
     "text": [
      "[[5923]\n",
      " [6742]\n",
      " [5958]\n",
      " [6131]\n",
      " [5842]\n",
      " [5421]\n",
      " [5918]\n",
      " [6265]\n",
      " [5851]\n",
      " [5949]]\n"
     ]
    }
   ],
   "source": [
    "row_sums = conf_mx.sum(axis=1, keepdims=True) # (10, 1)\n",
    "print(row_sums)\n",
    "\n",
    "# normalize confusion matrix\n",
    "normalized_conf_mx = conf_mx / row_sums"
   ]
  },
  {
   "cell_type": "code",
   "execution_count": 65,
   "id": "f84934df",
   "metadata": {},
   "outputs": [
    {
     "data": {
      "image/png": "[encoded data removed]",
      "text/plain": [
       "<Figure size 480x480 with 1 Axes>"
      ]
     },
     "metadata": {},
     "output_type": "display_data"
    }
   ],
   "source": [
    "# visualize normalized_conf_mx\n",
    "np.fill_diagonal(normalized_conf_mx, 0)\n",
    "plt.matshow(normalized_conf_mx, cmap=plt.cm.gray)\n",
    "plt.ylabel(\"Actual classes\")\n",
    "plt.title(\"predicted classes\")\n",
    "\n",
    "plt.show()"
   ]
  },
  {
   "cell_type": "markdown",
   "id": "e542fe74",
   "metadata": {},
   "source": [
    "# Multilabel Classification"
   ]
  },
  {
   "cell_type": "code",
   "execution_count": 66,
   "id": "edc47824",
   "metadata": {},
   "outputs": [
    {
     "data": {
      "text/plain": [
       "array([[False,  True],\n",
       "       [False, False],\n",
       "       [False, False],\n",
       "       [False,  True],\n",
       "       [ True,  True],\n",
       "       [False, False],\n",
       "       [False,  True],\n",
       "       [False,  True],\n",
       "       [False,  True],\n",
       "       [False, False]])"
      ]
     },
     "execution_count": 66,
     "metadata": {},
     "output_type": "execute_result"
    }
   ],
   "source": [
    "y_train_large = (y_train >= 7)\n",
    "y_train_odd = (y_train % 2 == 1)\n",
    "y_multilabel = np.c_[y_train_large, y_train_odd]\n",
    "y_multilabel[:10, :]"
   ]
  },
  {
   "cell_type": "code",
   "execution_count": 67,
   "id": "827c8684",
   "metadata": {},
   "outputs": [
    {
     "data": {
      "text/plain": [
       "array([5, 0, 4, 1, 9, 2, 1, 3, 1, 4], dtype=uint8)"
      ]
     },
     "execution_count": 67,
     "metadata": {},
     "output_type": "execute_result"
    }
   ],
   "source": [
    "y_train[:10].values"
   ]
  },
  {
   "cell_type": "markdown",
   "id": "49c05515",
   "metadata": {},
   "source": [
    "### KNeighborsClassifier"
   ]
  },
  {
   "cell_type": "code",
   "execution_count": 68,
   "id": "e6802bc7",
   "metadata": {},
   "outputs": [
    {
     "data": {
      "text/plain": [
       "array([[False,  True]])"
      ]
     },
     "execution_count": 68,
     "metadata": {},
     "output_type": "execute_result"
    }
   ],
   "source": [
    "knn_clf = KNeighborsClassifier()\n",
    "knn_clf.fit(X_train, y_multilabel)\n",
    "knn_clf.predict(digit) "
   ]
  },
  {
   "cell_type": "code",
   "execution_count": 69,
   "id": "ede242fc",
   "metadata": {},
   "outputs": [
    {
     "data": {
      "text/plain": [
       "array([[False,  True]])"
      ]
     },
     "execution_count": 69,
     "metadata": {},
     "output_type": "execute_result"
    }
   ],
   "source": [
    "knn_clf = KNeighborsClassifier()\n",
    "knn_clf.fit(X_train, y_multilabel)\n",
    "knn_clf.predict(digit) "
   ]
  },
  {
   "cell_type": "code",
   "execution_count": 70,
   "id": "93c2f883",
   "metadata": {},
   "outputs": [
    {
     "data": {
      "text/plain": [
       "0.976410265560605"
      ]
     },
     "execution_count": 70,
     "metadata": {},
     "output_type": "execute_result"
    }
   ],
   "source": [
    "y_train_knn_pred = cross_val_predict(knn_clf, X_train, y_multilabel, cv=3)\n",
    "f1_score(y_multilabel, y_train_knn_pred, average=\"macro\")"
   ]
  },
  {
   "cell_type": "markdown",
   "id": "ce3cf629",
   "metadata": {},
   "source": [
    "# Multioutput Classification"
   ]
  },
  {
   "cell_type": "code",
   "execution_count": 71,
   "id": "87b529c1",
   "metadata": {},
   "outputs": [],
   "source": [
    "noise_train = np.random.randint(0, 100, (len(X_train), 784))\n",
    "X_train_mod = X_train + noise_train\n",
    "\n",
    "noise_test = np.random.randint(0, 100, (len(X_test), 784))\n",
    "X_test_mod = X_test + noise_test"
   ]
  },
  {
   "cell_type": "code",
   "execution_count": 72,
   "id": "a4d1c690",
   "metadata": {},
   "outputs": [
    {
     "data": {
      "image/png": "[encoded data removed]",
      "text/plain": [
       "<Figure size 640x480 with 2 Axes>"
      ]
     },
     "metadata": {},
     "output_type": "display_data"
    }
   ],
   "source": [
    "test_photo = X_test[:1].values.reshape(28,28)\n",
    "test_photo_mod = X_test_mod[:1].values.reshape(28,28)\n",
    "\n",
    "plt.subplot(121)\n",
    "plt.imshow(test_photo_mod, cmap=plt.cm.binary)\n",
    "plt.axis('off')\n",
    "\n",
    "plt.subplot(122)\n",
    "plt.imshow(test_photo, cmap=plt.cm.binary)\n",
    "plt.axis('off')\n",
    "\n",
    "plt.show()"
   ]
  },
  {
   "cell_type": "code",
   "execution_count": 73,
   "id": "4c8f02f5",
   "metadata": {},
   "outputs": [
    {
     "data": {
      "text/plain": [
       "array([7], dtype=uint8)"
      ]
     },
     "execution_count": 73,
     "metadata": {},
     "output_type": "execute_result"
    }
   ],
   "source": [
    "knn_clf.fit(X_train_mod, y_train)\n",
    "# test_photo = X_test[:1].values.reshape(28,28)\n",
    "clean_digit = knn_clf.predict(np.array(X_test_mod.iloc[:1, :]))\n",
    "clean_digit"
   ]
  },
  {
   "cell_type": "code",
   "execution_count": 74,
   "id": "0802d394",
   "metadata": {},
   "outputs": [
    {
     "data": {
      "text/plain": [
       "(-0.5, 27.5, 27.5, -0.5)"
      ]
     },
     "execution_count": 74,
     "metadata": {},
     "output_type": "execute_result"
    },
    {
     "data": {
      "image/png": "[encoded data removed]",
      "text/plain": [
       "<Figure size 640x480 with 1 Axes>"
      ]
     },
     "metadata": {},
     "output_type": "display_data"
    }
   ],
   "source": [
    "plt.imshow(test_photo)\n",
    "plt.axis('off')"
   ]
  }
 ],
 "metadata": {
  "kernelspec": {
   "display_name": "Python 3 (ipykernel)",
   "language": "python",
   "name": "python3"
  },
  "language_info": {
   "codemirror_mode": {
    "name": "ipython",
    "version": 3
   },
   "file_extension": ".py",
   "mimetype": "text/x-python",
   "name": "python",
   "nbconvert_exporter": "python",
   "pygments_lexer": "ipython3",
   "version": "3.9.13"
  }
 },
 "nbformat": 4,
 "nbformat_minor": 5
}
